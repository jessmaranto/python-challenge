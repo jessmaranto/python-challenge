{
 "cells": [
  {
   "cell_type": "code",
   "execution_count": 37,
   "id": "dbbf777b-ad18-4c56-9653-18a7c04b030c",
   "metadata": {},
   "outputs": [
    {
     "name": "stdout",
     "output_type": "stream",
     "text": [
      "Financial Analysis\n",
      "-------------------\n",
      "Total Months: 86\n",
      "Total: $22564198\n",
      "Average Change: $-8311.11\n",
      "Greatest Increase in Profits: Aug-16 ($1862002)\n",
      "Greatest Decrease in Profits: Feb-14 ($-1825558)\n"
     ]
    }
   ],
   "source": [
    "import csv\n",
    "import os\n",
    "\n",
    "budget_csv = os.path.join(\"..\", \"Resources\", \"budget_data.csv\")\n",
    "pybank_output = os.path.join(\"..\", \"analysis\", \"pybank_output.txt\")\n",
    "#initialize variables \n",
    "Total_months = 0\n",
    "Net_Total = 0\n",
    "Average_profit = 0\n",
    "gincrease = 0\n",
    "gdecrease = 0\n",
    "profit = 0\n",
    "prior_profit = None\n",
    "total_change = 0\n",
    "average_change = 0\n",
    "\n",
    "# read csv file\n",
    "with open(budget_csv) as csv_file:\n",
    "    csv_reader = csv.reader(csv_file, delimiter=',')\n",
    "    line = csv_file.readline() #specify rows to skip\n",
    "    \n",
    "    #loop to find months\n",
    "    # total number of months included in the dataset\n",
    "    for row in csv_reader:\n",
    "        Total_months += 1\n",
    "         # net total amount of profit/losses over the entire period\n",
    "        Net_Total += int(row[1])\n",
    "        #The greatest increase in profits (date and amount) over the entire period\n",
    "        month = row[0]\n",
    "        profit = int(row[1])\n",
    "        if prior_profit is not None:\n",
    "            change = profit - prior_profit\n",
    "             # The changes in \"Profit/Losses\" over the entire period\n",
    "            total_change += change\n",
    "            if change > gincrease:\n",
    "                gincrease = change\n",
    "                gincrease_month = month\n",
    "        #The greatest decrease in profits (date and amount) over the entire period\n",
    "            if change < gdecrease:\n",
    "                gdecrease = change\n",
    "                gdecrease_month = month\n",
    "        prior_profit = profit\n",
    "\n",
    "    #, and then the average of those changes \n",
    "    average_change = round(total_change / (Total_months - 1), 2)\n",
    "# display results\n",
    "print (\"Financial Analysis\")\n",
    "print (\"-------------------\")\n",
    "print (f\"Total Months: {Total_months}\")\n",
    "print (f\"Total: ${Net_Total}\")\n",
    "print (f\"Average Change: ${average_change}\")\n",
    "print (f\"Greatest Increase in Profits: {gincrease_month} (${gincrease})\")\n",
    "print (f\"Greatest Decrease in Profits: {gdecrease_month} (${gdecrease})\")\n",
    "\n",
    "# Save results to text file\n",
    "f = open(pybank_output, \"w\")\n",
    "f.write (\"Financial Analysis\\n\")\n",
    "f.write (\"-------------------\\n\")\n",
    "f.write (f\"Total Months: {Total_months}\\n\")\n",
    "f.write (f\"Total: ${Net_Total}\\n\")\n",
    "f.write (f\"Average Change: ${average_change}\\n\")\n",
    "f.write (f\"Greatest Increase in Profits: {gincrease_month} (${gincrease})\\n\")\n",
    "f.write (f\"Greatest Decrease in Profits: {gdecrease_month} (${gdecrease})\\n\")\n",
    "f.close()\n"
   ]
  }
 ],
 "metadata": {
  "kernelspec": {
   "display_name": "Python 3 (ipykernel)",
   "language": "python",
   "name": "python3"
  },
  "language_info": {
   "codemirror_mode": {
    "name": "ipython",
    "version": 3
   },
   "file_extension": ".py",
   "mimetype": "text/x-python",
   "name": "python",
   "nbconvert_exporter": "python",
   "pygments_lexer": "ipython3",
   "version": "3.12.4"
  }
 },
 "nbformat": 4,
 "nbformat_minor": 5
}
